{
 "cells": [
  {
   "cell_type": "code",
   "execution_count": 2,
   "id": "796d4600",
   "metadata": {},
   "outputs": [
    {
     "name": "stdout",
     "output_type": "stream",
     "text": [
      "Entrer le temps en second: 120\n",
      "le temps est terminé!!\n"
     ]
    }
   ],
   "source": [
    "import time \n",
    "  \n",
    "def countdown(t): \n",
    "    \n",
    "    while t: \n",
    "        mins, secs = divmod(t, 60) \n",
    "        timer = '{:02d}:{:02d}'.format(mins, secs) \n",
    "        print(timer, end=\"\\r\") \n",
    "        time.sleep(1) \n",
    "        t -= 1\n",
    "      \n",
    "    print(\"le temps est terminé!!\") \n",
    "  \n",
    "  \n",
    "t = input(\"Entrer le temps en second: \") \n",
    "  \n",
    "countdown(int(t)) "
   ]
  },
  {
   "cell_type": "code",
   "execution_count": null,
   "id": "e0bedfe3",
   "metadata": {},
   "outputs": [],
   "source": []
  }
 ],
 "metadata": {
  "kernelspec": {
   "display_name": "Python 3",
   "language": "python",
   "name": "python3"
  },
  "language_info": {
   "codemirror_mode": {
    "name": "ipython",
    "version": 3
   },
   "file_extension": ".py",
   "mimetype": "text/x-python",
   "name": "python",
   "nbconvert_exporter": "python",
   "pygments_lexer": "ipython3",
   "version": "3.8.8"
  }
 },
 "nbformat": 4,
 "nbformat_minor": 5
}
